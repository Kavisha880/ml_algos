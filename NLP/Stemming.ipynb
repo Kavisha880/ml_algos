{
 "cells": [
  {
   "cell_type": "code",
   "execution_count": 2,
   "id": "b5114ed3-1675-48fb-a45d-bf26f9b67742",
   "metadata": {},
   "outputs": [],
   "source": [
    "# stemming\n",
    "# application : comments of product is a positive review or negative review\n",
    "# eats, eating, eat , ate,eten---->show same word eat!!!"
   ]
  },
  {
   "cell_type": "code",
   "execution_count": 4,
   "id": "db94ad1b-9ba1-41e4-8ce3-eb45218d5e14",
   "metadata": {},
   "outputs": [],
   "source": [
    "words=[\"eating\",\"eaten\",\"writing\",\"writes\",\"programming\",\"programs\",\"history\"]\n"
   ]
  },
  {
   "cell_type": "code",
   "execution_count": 9,
   "id": "559c30ce-5919-48c5-a015-077680661fe2",
   "metadata": {},
   "outputs": [],
   "source": [
    "# techinique 1: porter stemmer \n",
    "from nltk .stem  import PorterStemmer\n"
   ]
  },
  {
   "cell_type": "code",
   "execution_count": 17,
   "id": "213ef361-9228-4d0c-9425-9be02f642038",
   "metadata": {},
   "outputs": [],
   "source": [
    "stemming=PorterStemmer()\n"
   ]
  },
  {
   "cell_type": "code",
   "execution_count": 19,
   "id": "f7d4a009-4f29-41b8-8445-20083cc930c7",
   "metadata": {},
   "outputs": [
    {
     "name": "stdout",
     "output_type": "stream",
     "text": [
      "eating------->eat\n",
      "eaten------->eaten\n",
      "writing------->write\n",
      "writes------->write\n",
      "programming------->program\n",
      "programs------->program\n",
      "history------->histori\n"
     ]
    }
   ],
   "source": [
    "for word in words:\n",
    "    print(word+\"------->\"+stemming.stem(word))"
   ]
  },
  {
   "cell_type": "code",
   "execution_count": 25,
   "id": "3efbe786-0a2f-4783-988c-1ab2ad458068",
   "metadata": {},
   "outputs": [],
   "source": [
    "# TECHNIQUE  2:: REGXPSTEMMER\n",
    "from nltk.stem import RegexpStemmer"
   ]
  },
  {
   "cell_type": "code",
   "execution_count": 29,
   "id": "bd2c6bb1-f65a-4e97-9a53-dfe469b90af1",
   "metadata": {},
   "outputs": [],
   "source": [
    "reg_stemmer=RegexpStemmer('ing$|s$|e$|able$',min=4)"
   ]
  },
  {
   "cell_type": "code",
   "execution_count": 33,
   "id": "9b39f254-0b7c-4efb-8ef5-9a4d2e67cd6c",
   "metadata": {},
   "outputs": [
    {
     "data": {
      "text/plain": [
       "'eat'"
      ]
     },
     "execution_count": 33,
     "metadata": {},
     "output_type": "execute_result"
    }
   ],
   "source": [
    "reg_stemmer.stem('eating')"
   ]
  },
  {
   "cell_type": "code",
   "execution_count": 35,
   "id": "2df1ab66-cb76-4800-98e9-2a3f3da3ad97",
   "metadata": {},
   "outputs": [
    {
     "data": {
      "text/plain": [
       "'ingeat'"
      ]
     },
     "execution_count": 35,
     "metadata": {},
     "output_type": "execute_result"
    }
   ],
   "source": [
    "reg_stemmer.stem('ingeating')"
   ]
  },
  {
   "cell_type": "code",
   "execution_count": 37,
   "id": "98ecd0c3-ab0c-466b-a12d-da57ba68b81b",
   "metadata": {},
   "outputs": [],
   "source": [
    "# TECHNIQUE 3--->>snowball stemmer \n",
    "from nltk.stem import SnowballStemmer"
   ]
  },
  {
   "cell_type": "code",
   "execution_count": 39,
   "id": "956d618a-009b-40b8-82f7-8de119b53e44",
   "metadata": {},
   "outputs": [],
   "source": [
    "sstemmer=SnowballStemmer('english')"
   ]
  },
  {
   "cell_type": "code",
   "execution_count": 41,
   "id": "71d309c0-4b65-4d48-af8d-d3b9c986e13a",
   "metadata": {},
   "outputs": [
    {
     "name": "stdout",
     "output_type": "stream",
     "text": [
      "eating------->eat\n",
      "eaten------->eaten\n",
      "writing------->write\n",
      "writes------->write\n",
      "programming------->program\n",
      "programs------->program\n",
      "history------->histori\n"
     ]
    }
   ],
   "source": [
    "for word in words:\n",
    "    print(word+\"------->\"+sstemmer.stem(word))"
   ]
  },
  {
   "cell_type": "code",
   "execution_count": null,
   "id": "7c307537-58b2-4c9e-b7ec-ad1b20cca2e0",
   "metadata": {},
   "outputs": [],
   "source": []
  }
 ],
 "metadata": {
  "kernelspec": {
   "display_name": "Python [conda env:base] *",
   "language": "python",
   "name": "conda-base-py"
  },
  "language_info": {
   "codemirror_mode": {
    "name": "ipython",
    "version": 3
   },
   "file_extension": ".py",
   "mimetype": "text/x-python",
   "name": "python",
   "nbconvert_exporter": "python",
   "pygments_lexer": "ipython3",
   "version": "3.12.3"
  }
 },
 "nbformat": 4,
 "nbformat_minor": 5
}
